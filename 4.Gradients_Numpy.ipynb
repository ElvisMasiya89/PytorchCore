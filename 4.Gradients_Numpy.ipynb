{
 "cells": [
  {
   "cell_type": "code",
   "execution_count": 20,
   "id": "c6652d9b",
   "metadata": {},
   "outputs": [],
   "source": [
    "import numpy as np"
   ]
  },
  {
   "cell_type": "code",
   "execution_count": 21,
   "id": "26a0b494",
   "metadata": {},
   "outputs": [],
   "source": [
    "# f = w * x    Simple Linear Regression Model"
   ]
  },
  {
   "cell_type": "code",
   "execution_count": 22,
   "id": "6c56d3f5",
   "metadata": {},
   "outputs": [],
   "source": [
    "#f = 2 * x"
   ]
  },
  {
   "cell_type": "code",
   "execution_count": 23,
   "id": "f15a990f",
   "metadata": {},
   "outputs": [],
   "source": [
    "X = np.array([1,2,3,4], dtype = np.float32)\n",
    "Y = np.array([2,4,6,8], dtype = np.float32)\n",
    "\n",
    "w = 0.0\n",
    "\n",
    "#model prediction\n",
    "def forward(x):\n",
    "    return w * x"
   ]
  },
  {
   "cell_type": "code",
   "execution_count": 24,
   "id": "a031fbac",
   "metadata": {},
   "outputs": [],
   "source": [
    "#loss = MSE\n",
    "def loss(y, y_predicted):\n",
    "    return ((y_predicted - y)** 2).mean()"
   ]
  },
  {
   "cell_type": "code",
   "execution_count": 25,
   "id": "abb7846a",
   "metadata": {},
   "outputs": [],
   "source": [
    "#gradient\n",
    "# MSE= 1/N * (w*x - y)**2\n",
    "#dJ/dw = 1/N 2x(w*x - y)\n",
    "\n",
    "def gradient(x, y, y_predicted):\n",
    "    return np.dot(2*x, y_predicted-y).mean()"
   ]
  },
  {
   "cell_type": "code",
   "execution_count": 26,
   "id": "8163c159",
   "metadata": {},
   "outputs": [
    {
     "name": "stdout",
     "output_type": "stream",
     "text": [
      "Prediction before training: f(5)= 0.000\n"
     ]
    }
   ],
   "source": [
    "print(f'Prediction before training: f(5)= {forward(5):.3f}')"
   ]
  },
  {
   "cell_type": "code",
   "execution_count": 27,
   "id": "d641d89e",
   "metadata": {},
   "outputs": [
    {
     "name": "stdout",
     "output_type": "stream",
     "text": [
      "epoch 1: w = 1.200,  loss = 30.00000000\n",
      "epoch 3: w = 1.872,  loss = 0.76800019\n",
      "epoch 5: w = 1.980,  loss = 0.01966083\n",
      "epoch 7: w = 1.997,  loss = 0.00050332\n",
      "epoch 9: w = 1.999,  loss = 0.00001288\n",
      "epoch 11: w = 2.000,  loss = 0.00000033\n",
      "epoch 13: w = 2.000,  loss = 0.00000001\n",
      "epoch 15: w = 2.000,  loss = 0.00000000\n",
      "epoch 17: w = 2.000,  loss = 0.00000000\n",
      "epoch 19: w = 2.000,  loss = 0.00000000\n"
     ]
    }
   ],
   "source": [
    "#Training \n",
    "\n",
    "learning_rate = 0.01\n",
    "n_iters = 20\n",
    "\n",
    "for epoch in range(n_iters):\n",
    "    \n",
    "    #prediction = forward pass\n",
    "    y_pred = forward(X)\n",
    "    \n",
    "    #loss\n",
    "    l = loss(Y, y_pred)\n",
    "    \n",
    "    #gradients\n",
    "    dw = gradient(X, Y, y_pred)\n",
    "    \n",
    "    #update weights\n",
    "    w-=learning_rate* dw\n",
    "    \n",
    "    if epoch % 2 == 0:\n",
    "        \n",
    "        print(f'epoch {epoch+1}: w = {w:.3f},  loss = {l:.8f}')\n"
   ]
  },
  {
   "cell_type": "code",
   "execution_count": 28,
   "id": "4d9539c7",
   "metadata": {},
   "outputs": [
    {
     "name": "stdout",
     "output_type": "stream",
     "text": [
      "Prediction before training: f(4)= 8.000\n"
     ]
    }
   ],
   "source": [
    "print(f'Prediction before training: f(4)= {forward(4):.3f}')"
   ]
  },
  {
   "cell_type": "code",
   "execution_count": null,
   "id": "5529a6ac",
   "metadata": {},
   "outputs": [],
   "source": []
  },
  {
   "cell_type": "code",
   "execution_count": null,
   "id": "c83223f5",
   "metadata": {},
   "outputs": [],
   "source": []
  },
  {
   "cell_type": "code",
   "execution_count": null,
   "id": "8e9fc014",
   "metadata": {},
   "outputs": [],
   "source": []
  }
 ],
 "metadata": {
  "kernelspec": {
   "display_name": "Python 3 (ipykernel)",
   "language": "python",
   "name": "python3"
  },
  "language_info": {
   "codemirror_mode": {
    "name": "ipython",
    "version": 3
   },
   "file_extension": ".py",
   "mimetype": "text/x-python",
   "name": "python",
   "nbconvert_exporter": "python",
   "pygments_lexer": "ipython3",
   "version": "3.10.9"
  }
 },
 "nbformat": 4,
 "nbformat_minor": 5
}
