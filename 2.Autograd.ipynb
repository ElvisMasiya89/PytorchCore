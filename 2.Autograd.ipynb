{
 "cells": [
  {
   "cell_type": "code",
   "execution_count": 2,
   "id": "049b2aa6",
   "metadata": {},
   "outputs": [],
   "source": [
    "import torch"
   ]
  },
  {
   "cell_type": "code",
   "execution_count": 3,
   "id": "b2e4c81d",
   "metadata": {},
   "outputs": [
    {
     "name": "stdout",
     "output_type": "stream",
     "text": [
      "tensor([0.2642, 1.7199, 0.2944], requires_grad=True)\n"
     ]
    }
   ],
   "source": [
    "x =  torch.randn(3, requires_grad = True)\n",
    "print(x)   "
   ]
  },
  {
   "cell_type": "code",
   "execution_count": 5,
   "id": "14940c02",
   "metadata": {},
   "outputs": [
    {
     "name": "stdout",
     "output_type": "stream",
     "text": [
      "tensor([2.2642, 3.7199, 2.2944], grad_fn=<AddBackward0>)\n"
     ]
    }
   ],
   "source": [
    "y  = x + 2 \n",
    "print(y)   "
   ]
  },
  {
   "cell_type": "markdown",
   "id": "39b6f4ad",
   "metadata": {},
   "source": [
    "z=y*y*2\n",
    "z=z.mean()\n",
    "print(z)"
   ]
  },
  {
   "cell_type": "code",
   "execution_count": 7,
   "id": "6e3a2843",
   "metadata": {},
   "outputs": [
    {
     "name": "stdout",
     "output_type": "stream",
     "text": [
      "tensor([3.0189, 4.9599, 3.0591])\n"
     ]
    }
   ],
   "source": [
    "z.backward() #dy/dx\n",
    "print(x.grad)"
   ]
  },
  {
   "cell_type": "markdown",
   "id": "5e1fdae1",
   "metadata": {},
   "source": [
    "## How to exclude a tensor from gradiant calculations"
   ]
  },
  {
   "cell_type": "code",
   "execution_count": null,
   "id": "3db728c0",
   "metadata": {},
   "outputs": [],
   "source": [
    "# x.requires_grad_(False)\n",
    "# x.detach()\n",
    "# with torch.no_grad():"
   ]
  },
  {
   "cell_type": "markdown",
   "id": "69f76fc6",
   "metadata": {},
   "source": [
    "## Resetting the gradients to Zero on each Training Epoch "
   ]
  },
  {
   "cell_type": "code",
   "execution_count": 11,
   "id": "a21ed915",
   "metadata": {},
   "outputs": [
    {
     "name": "stdout",
     "output_type": "stream",
     "text": [
      "tensor([3., 3., 3., 3.])\n",
      "tensor([3., 3., 3., 3.])\n",
      "tensor([3., 3., 3., 3.])\n"
     ]
    }
   ],
   "source": [
    "import torch\n",
    "\n",
    "weights = torch.ones(4, requires_grad = True)\n",
    "for epoch in range(3):\n",
    "    \n",
    "    model_output = (weights * 3).sum()\n",
    "    model_output.backward()\n",
    "    \n",
    "    print(weights.grad)\n",
    "    \n",
    "    weights.grad.zero_()"
   ]
  },
  {
   "cell_type": "markdown",
   "id": "0944762a",
   "metadata": {},
   "source": [
    "## Resetting the gradients to Zero on each Training Epoch example 2"
   ]
  },
  {
   "cell_type": "code",
   "execution_count": 2,
   "id": "0cc12722",
   "metadata": {},
   "outputs": [],
   "source": [
    "# import torch\n",
    "\n",
    "# weights = torch.ones(4, requires_grad = True)\n",
    "# optimizer = torch.optim.SGD(weights, lr=0.01)\n",
    "# optimizer.step()\n",
    "# optimizer.zero_grad()"
   ]
  },
  {
   "cell_type": "code",
   "execution_count": null,
   "id": "79bff5f5",
   "metadata": {},
   "outputs": [],
   "source": []
  },
  {
   "cell_type": "code",
   "execution_count": null,
   "id": "57ca1480",
   "metadata": {},
   "outputs": [],
   "source": []
  },
  {
   "cell_type": "code",
   "execution_count": null,
   "id": "130503d9",
   "metadata": {},
   "outputs": [],
   "source": []
  },
  {
   "cell_type": "code",
   "execution_count": null,
   "id": "afa4f0d5",
   "metadata": {},
   "outputs": [],
   "source": []
  }
 ],
 "metadata": {
  "kernelspec": {
   "display_name": "Python 3 (ipykernel)",
   "language": "python",
   "name": "python3"
  },
  "language_info": {
   "codemirror_mode": {
    "name": "ipython",
    "version": 3
   },
   "file_extension": ".py",
   "mimetype": "text/x-python",
   "name": "python",
   "nbconvert_exporter": "python",
   "pygments_lexer": "ipython3",
   "version": "3.10.9"
  }
 },
 "nbformat": 4,
 "nbformat_minor": 5
}
