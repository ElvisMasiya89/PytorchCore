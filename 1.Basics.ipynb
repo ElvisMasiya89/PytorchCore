{
 "cells": [
  {
   "cell_type": "code",
   "execution_count": 4,
   "id": "099dbb8d",
   "metadata": {},
   "outputs": [],
   "source": [
    "import torch"
   ]
  },
  {
   "cell_type": "code",
   "execution_count": 5,
   "id": "376be137",
   "metadata": {},
   "outputs": [
    {
     "data": {
      "text/plain": [
       "tensor([[1.6764e+22, 6.5925e-10],\n",
       "        [2.6659e-09, 2.6332e+20],\n",
       "        [8.1923e-10, 2.1512e+23]])"
      ]
     },
     "execution_count": 5,
     "metadata": {},
     "output_type": "execute_result"
    }
   ],
   "source": [
    "torch.empty(3,2)"
   ]
  },
  {
   "cell_type": "code",
   "execution_count": 6,
   "id": "2cd3328e",
   "metadata": {},
   "outputs": [
    {
     "data": {
      "text/plain": [
       "tensor([0.7760, 0.3681, 0.3723])"
      ]
     },
     "execution_count": 6,
     "metadata": {},
     "output_type": "execute_result"
    }
   ],
   "source": [
    "torch.rand(3)"
   ]
  },
  {
   "cell_type": "code",
   "execution_count": 7,
   "id": "76fca580",
   "metadata": {},
   "outputs": [
    {
     "data": {
      "text/plain": [
       "tensor([[0., 0.],\n",
       "        [0., 0.]])"
      ]
     },
     "execution_count": 7,
     "metadata": {},
     "output_type": "execute_result"
    }
   ],
   "source": [
    "torch.zeros(2,2)"
   ]
  },
  {
   "cell_type": "code",
   "execution_count": 8,
   "id": "bfc2065f",
   "metadata": {},
   "outputs": [
    {
     "data": {
      "text/plain": [
       "torch.float32"
      ]
     },
     "execution_count": 8,
     "metadata": {},
     "output_type": "execute_result"
    }
   ],
   "source": [
    "torch.ones(2,2).dtype"
   ]
  },
  {
   "cell_type": "code",
   "execution_count": 9,
   "id": "675e3c26",
   "metadata": {},
   "outputs": [],
   "source": [
    "x = torch.ones(2,2, dtype=torch.float16)"
   ]
  },
  {
   "cell_type": "code",
   "execution_count": 10,
   "id": "b9806bc5",
   "metadata": {},
   "outputs": [
    {
     "data": {
      "text/plain": [
       "torch.Size([2, 2])"
      ]
     },
     "execution_count": 10,
     "metadata": {},
     "output_type": "execute_result"
    }
   ],
   "source": [
    "x.size()"
   ]
  },
  {
   "cell_type": "code",
   "execution_count": 11,
   "id": "1033ebdd",
   "metadata": {},
   "outputs": [
    {
     "data": {
      "text/plain": [
       "tensor([2.4000, 5.4000])"
      ]
     },
     "execution_count": 11,
     "metadata": {},
     "output_type": "execute_result"
    }
   ],
   "source": [
    "torch.tensor([2.4, 5.4])"
   ]
  },
  {
   "cell_type": "markdown",
   "id": "fcf4eb88",
   "metadata": {},
   "source": [
    "## Reshaping"
   ]
  },
  {
   "cell_type": "code",
   "execution_count": 12,
   "id": "7ea412a5",
   "metadata": {},
   "outputs": [],
   "source": [
    "x = torch.rand(4,4)"
   ]
  },
  {
   "cell_type": "code",
   "execution_count": 13,
   "id": "cc440682",
   "metadata": {},
   "outputs": [
    {
     "name": "stdout",
     "output_type": "stream",
     "text": [
      "tensor([[0.7518, 0.6449, 0.4732, 0.0467],\n",
      "        [0.6640, 0.4396, 0.6777, 0.0513],\n",
      "        [0.1362, 0.7639, 0.1150, 0.2579],\n",
      "        [0.3698, 0.2554, 0.3097, 0.6514]])\n"
     ]
    }
   ],
   "source": [
    "print(x)"
   ]
  },
  {
   "cell_type": "code",
   "execution_count": 14,
   "id": "1007688d",
   "metadata": {},
   "outputs": [
    {
     "data": {
      "text/plain": [
       "tensor([0.7518, 0.6449, 0.4732, 0.0467, 0.6640, 0.4396, 0.6777, 0.0513, 0.1362,\n",
       "        0.7639, 0.1150, 0.2579, 0.3698, 0.2554, 0.3097, 0.6514])"
      ]
     },
     "execution_count": 14,
     "metadata": {},
     "output_type": "execute_result"
    }
   ],
   "source": [
    "x.view(16)"
   ]
  },
  {
   "cell_type": "code",
   "execution_count": 15,
   "id": "dfa8fd36",
   "metadata": {},
   "outputs": [
    {
     "data": {
      "text/plain": [
       "tensor([[0.7518, 0.6449, 0.4732, 0.0467, 0.6640, 0.4396, 0.6777, 0.0513],\n",
       "        [0.1362, 0.7639, 0.1150, 0.2579, 0.3698, 0.2554, 0.3097, 0.6514]])"
      ]
     },
     "execution_count": 15,
     "metadata": {},
     "output_type": "execute_result"
    }
   ],
   "source": [
    "x.view(-1,8)"
   ]
  },
  {
   "cell_type": "markdown",
   "id": "265c9a3c",
   "metadata": {},
   "source": [
    "## Numpy and Pytorch"
   ]
  },
  {
   "cell_type": "code",
   "execution_count": 16,
   "id": "8f87f703",
   "metadata": {},
   "outputs": [],
   "source": [
    "import numpy as np"
   ]
  },
  {
   "cell_type": "code",
   "execution_count": 17,
   "id": "da042153",
   "metadata": {},
   "outputs": [
    {
     "name": "stdout",
     "output_type": "stream",
     "text": [
      "tensor([1., 1., 1., 1., 1.])\n",
      "<class 'numpy.ndarray'>\n"
     ]
    }
   ],
   "source": [
    "a = torch.ones(5)\n",
    "\n",
    "print(a)\n",
    "\n",
    "b = a.numpy()\n",
    "\n",
    "print(type(b))"
   ]
  },
  {
   "cell_type": "code",
   "execution_count": 19,
   "id": "59749ee5",
   "metadata": {},
   "outputs": [
    {
     "name": "stdout",
     "output_type": "stream",
     "text": [
      "[1. 1. 1. 1. 1.]\n",
      "<class 'torch.Tensor'>\n",
      "tensor([1., 1., 1., 1., 1.], dtype=torch.float64)\n",
      "[2. 2. 2. 2. 2.]\n",
      "tensor([1., 1., 1., 1., 1.], dtype=torch.float64)\n"
     ]
    }
   ],
   "source": [
    "a = np.ones(5)\n",
    "\n",
    "print(a)\n",
    "\n",
    "b = torch.from_numpy(a)\n",
    "\n",
    "print(type(b))\n",
    "print(b)\n",
    "print(a+1)\n",
    "print(b)    #Tensor does a deep copy when running on cpu  but not on GPU"
   ]
  },
  {
   "cell_type": "markdown",
   "id": "a3f0da30",
   "metadata": {},
   "source": [
    "## In PyTorch, you can create a deep copy of a tensor using the .clone() method or the torch.clone() function. Both methods /create a new tensor that is a deep copy of the original tensor, meaning they have separate memory locations and changes made to one tensor will not affect the other. Here's how you can use them:\n",
    "\n",
    "## Using .clone() method:"
   ]
  },
  {
   "cell_type": "code",
   "execution_count": 1,
   "id": "d6752f7d",
   "metadata": {},
   "outputs": [
    {
     "name": "stdout",
     "output_type": "stream",
     "text": [
      "tensor([1, 2, 3])\n",
      "tensor([100,   2,   3])\n"
     ]
    }
   ],
   "source": [
    "import torch\n",
    "\n",
    "# Create the original tensor\n",
    "original_tensor = torch.tensor([1, 2, 3])\n",
    "\n",
    "# Create a deep copy of the tensor using .clone()\n",
    "deep_copied_tensor = original_tensor.clone()\n",
    "\n",
    "# Modify the deep copied tensor\n",
    "deep_copied_tensor[0] = 100\n",
    "\n",
    "# The original tensor remains unchanged\n",
    "print(original_tensor)         # Output: tensor([1, 2, 3])\n",
    "print(deep_copied_tensor)      # Output: tensor([100, 2, 3])\n"
   ]
  },
  {
   "cell_type": "markdown",
   "id": "b6a3b775",
   "metadata": {},
   "source": [
    "## Using torch.clone() function:"
   ]
  },
  {
   "cell_type": "code",
   "execution_count": 2,
   "id": "e80ad52f",
   "metadata": {},
   "outputs": [
    {
     "name": "stdout",
     "output_type": "stream",
     "text": [
      "tensor([1, 2, 3])\n",
      "tensor([100,   2,   3])\n"
     ]
    }
   ],
   "source": [
    "import torch\n",
    "\n",
    "# Create the original tensor\n",
    "original_tensor = torch.tensor([1, 2, 3])\n",
    "\n",
    "# Create a deep copy of the tensor using torch.clone()\n",
    "deep_copied_tensor = torch.clone(original_tensor)\n",
    "\n",
    "# Modify the deep copied tensor\n",
    "deep_copied_tensor[0] = 100\n",
    "\n",
    "# The original tensor remains unchanged\n",
    "print(original_tensor)         # Output: tensor([1, 2, 3])\n",
    "print(deep_copied_tensor)      # Output: tensor([100, 2, 3])\n"
   ]
  },
  {
   "cell_type": "markdown",
   "id": "12c1a998",
   "metadata": {},
   "source": [
    "## Cuda"
   ]
  },
  {
   "cell_type": "code",
   "execution_count": 23,
   "id": "915fd3f5",
   "metadata": {},
   "outputs": [],
   "source": [
    "if torch.cuda.is_available():\n",
    "    device = torch.device(\"cuda\")\n",
    "    x = torch.ones(5, device=device)\n",
    "    y = torch.ones(5)\n",
    "    y = y.to(device)\n",
    "    z = x + y\n",
    "    z = z.to(\"cpu\")      \n",
    "    print(z)\n",
    "                   \n",
    "                   \n",
    "                   \n",
    "                   \n",
    "                   "
   ]
  },
  {
   "cell_type": "markdown",
   "id": "47474d4e",
   "metadata": {},
   "source": [
    "## Single Value"
   ]
  },
  {
   "cell_type": "code",
   "execution_count": 25,
   "id": "81f4fec7",
   "metadata": {},
   "outputs": [],
   "source": [
    "x = torch.tensor(2)"
   ]
  },
  {
   "cell_type": "code",
   "execution_count": 26,
   "id": "90fe7e83",
   "metadata": {},
   "outputs": [
    {
     "data": {
      "text/plain": [
       "2"
      ]
     },
     "execution_count": 26,
     "metadata": {},
     "output_type": "execute_result"
    }
   ],
   "source": [
    "x.item()"
   ]
  },
  {
   "cell_type": "code",
   "execution_count": null,
   "id": "e913c761",
   "metadata": {},
   "outputs": [],
   "source": []
  }
 ],
 "metadata": {
  "kernelspec": {
   "display_name": "Python 3 (ipykernel)",
   "language": "python",
   "name": "python3"
  },
  "language_info": {
   "codemirror_mode": {
    "name": "ipython",
    "version": 3
   },
   "file_extension": ".py",
   "mimetype": "text/x-python",
   "name": "python",
   "nbconvert_exporter": "python",
   "pygments_lexer": "ipython3",
   "version": "3.10.9"
  }
 },
 "nbformat": 4,
 "nbformat_minor": 5
}
